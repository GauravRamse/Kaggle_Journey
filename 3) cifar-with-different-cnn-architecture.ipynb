{
 "cells": [
  {
   "cell_type": "code",
   "execution_count": 1,
   "id": "7a8a5c05",
   "metadata": {
    "_cell_guid": "b1076dfc-b9ad-4769-8c92-a6c4dae69d19",
    "_uuid": "8f2839f25d086af736a60e9eeb907d3b93b6e0e5",
    "execution": {
     "iopub.execute_input": "2021-07-27T12:36:08.286586Z",
     "iopub.status.busy": "2021-07-27T12:36:08.285900Z",
     "iopub.status.idle": "2021-07-27T12:36:08.288702Z",
     "shell.execute_reply": "2021-07-27T12:36:08.288232Z",
     "shell.execute_reply.started": "2021-07-27T10:26:17.041764Z"
    },
    "papermill": {
     "duration": 0.036442,
     "end_time": "2021-07-27T12:36:08.288851",
     "exception": false,
     "start_time": "2021-07-27T12:36:08.252409",
     "status": "completed"
    },
    "tags": []
   },
   "outputs": [],
   "source": [
    "# This Python 3 environment comes with many helpful analytics libraries installed\n",
    "# It is defined by the kaggle/python Docker image: https://github.com/kaggle/docker-python\n",
    "# For example, here's several helpful packages to load\n",
    "\n",
    "import numpy as np # linear algebra\n",
    "import pandas as pd # data processing, CSV file I/O (e.g. pd.read_csv)\n",
    "\n",
    "# Input data files are available in the read-only \"../input/\" directory\n",
    "# For example, running this (by clicking run or pressing Shift+Enter) will list all files under the input directory\n",
    "\n",
    "import os\n",
    "for dirname, _, filenames in os.walk('/kaggle/input'):\n",
    "    for filename in filenames:\n",
    "        print(os.path.join(dirname, filename))\n",
    "\n",
    "# You can write up to 20GB to the current directory (/kaggle/working/) that gets preserved as output when you create a version using \"Save & Run All\" \n",
    "# You can also write temporary files to /kaggle/temp/, but they won't be saved outside of the current session"
   ]
  },
  {
   "cell_type": "code",
   "execution_count": 2,
   "id": "458361ae",
   "metadata": {
    "execution": {
     "iopub.execute_input": "2021-07-27T12:36:08.333799Z",
     "iopub.status.busy": "2021-07-27T12:36:08.333313Z",
     "iopub.status.idle": "2021-07-27T12:36:13.170029Z",
     "shell.execute_reply": "2021-07-27T12:36:13.169498Z",
     "shell.execute_reply.started": "2021-07-27T10:26:18.130177Z"
    },
    "papermill": {
     "duration": 4.860532,
     "end_time": "2021-07-27T12:36:13.170165",
     "exception": false,
     "start_time": "2021-07-27T12:36:08.309633",
     "status": "completed"
    },
    "tags": []
   },
   "outputs": [],
   "source": [
    "import tensorflow as tf\n",
    "from tensorflow import keras\n",
    "from sklearn.model_selection import train_test_split"
   ]
  },
  {
   "cell_type": "markdown",
   "id": "78a3a16c",
   "metadata": {
    "papermill": {
     "duration": 0.021501,
     "end_time": "2021-07-27T12:36:13.213063",
     "exception": false,
     "start_time": "2021-07-27T12:36:13.191562",
     "status": "completed"
    },
    "tags": []
   },
   "source": [
    "## Load Data"
   ]
  },
  {
   "cell_type": "code",
   "execution_count": 3,
   "id": "778222ed",
   "metadata": {
    "execution": {
     "iopub.execute_input": "2021-07-27T12:36:13.260760Z",
     "iopub.status.busy": "2021-07-27T12:36:13.260025Z",
     "iopub.status.idle": "2021-07-27T12:36:19.349958Z",
     "shell.execute_reply": "2021-07-27T12:36:19.349480Z",
     "shell.execute_reply.started": "2021-07-27T10:26:19.848232Z"
    },
    "papermill": {
     "duration": 6.116355,
     "end_time": "2021-07-27T12:36:19.350089",
     "exception": false,
     "start_time": "2021-07-27T12:36:13.233734",
     "status": "completed"
    },
    "tags": []
   },
   "outputs": [
    {
     "name": "stdout",
     "output_type": "stream",
     "text": [
      "Downloading data from https://www.cs.toronto.edu/~kriz/cifar-10-python.tar.gz\n",
      "170500096/170498071 [==============================] - 4s 0us/step\n"
     ]
    }
   ],
   "source": [
    "(x_train, y_train),  (x_test, y_test) = keras.datasets.cifar10.load_data()"
   ]
  },
  {
   "cell_type": "markdown",
   "id": "5ebb1c42",
   "metadata": {
    "papermill": {
     "duration": 0.036458,
     "end_time": "2021-07-27T12:36:19.424240",
     "exception": false,
     "start_time": "2021-07-27T12:36:19.387782",
     "status": "completed"
    },
    "tags": []
   },
   "source": [
    "## Preprocess Data"
   ]
  },
  {
   "cell_type": "markdown",
   "id": "0156124e",
   "metadata": {
    "papermill": {
     "duration": 0.03654,
     "end_time": "2021-07-27T12:36:19.498549",
     "exception": false,
     "start_time": "2021-07-27T12:36:19.462009",
     "status": "completed"
    },
    "tags": []
   },
   "source": [
    "As you can see the datatype of our dataset is integer, So we will convert that to float"
   ]
  },
  {
   "cell_type": "code",
   "execution_count": 4,
   "id": "83e91876",
   "metadata": {
    "execution": {
     "iopub.execute_input": "2021-07-27T12:36:19.579891Z",
     "iopub.status.busy": "2021-07-27T12:36:19.579195Z",
     "iopub.status.idle": "2021-07-27T12:36:19.582155Z",
     "shell.execute_reply": "2021-07-27T12:36:19.582557Z",
     "shell.execute_reply.started": "2021-07-27T10:26:22.128458Z"
    },
    "papermill": {
     "duration": 0.04711,
     "end_time": "2021-07-27T12:36:19.582674",
     "exception": false,
     "start_time": "2021-07-27T12:36:19.535564",
     "status": "completed"
    },
    "tags": []
   },
   "outputs": [
    {
     "data": {
      "text/plain": [
       "((50000, 32, 32, 3), (10000, 32, 32, 3), (50000, 1), (10000, 1))"
      ]
     },
     "execution_count": 4,
     "metadata": {},
     "output_type": "execute_result"
    }
   ],
   "source": [
    "x_train.shape, x_test.shape, y_train.shape, y_test.shape"
   ]
  },
  {
   "cell_type": "code",
   "execution_count": 5,
   "id": "707b41fc",
   "metadata": {
    "execution": {
     "iopub.execute_input": "2021-07-27T12:36:19.660863Z",
     "iopub.status.busy": "2021-07-27T12:36:19.659832Z",
     "iopub.status.idle": "2021-07-27T12:36:19.842532Z",
     "shell.execute_reply": "2021-07-27T12:36:19.842079Z",
     "shell.execute_reply.started": "2021-07-27T10:26:23.128325Z"
    },
    "papermill": {
     "duration": 0.223127,
     "end_time": "2021-07-27T12:36:19.842658",
     "exception": false,
     "start_time": "2021-07-27T12:36:19.619531",
     "status": "completed"
    },
    "tags": []
   },
   "outputs": [],
   "source": [
    "x_train = x_train.astype('float32')\n",
    "x_test = x_test.astype('float32')"
   ]
  },
  {
   "cell_type": "code",
   "execution_count": 6,
   "id": "0b659a27",
   "metadata": {
    "execution": {
     "iopub.execute_input": "2021-07-27T12:36:19.922611Z",
     "iopub.status.busy": "2021-07-27T12:36:19.921808Z",
     "iopub.status.idle": "2021-07-27T12:36:20.601531Z",
     "shell.execute_reply": "2021-07-27T12:36:20.601945Z",
     "shell.execute_reply.started": "2021-07-27T10:26:24.039964Z"
    },
    "papermill": {
     "duration": 0.722023,
     "end_time": "2021-07-27T12:36:20.602103",
     "exception": false,
     "start_time": "2021-07-27T12:36:19.880080",
     "status": "completed"
    },
    "tags": []
   },
   "outputs": [],
   "source": [
    "# normalize \n",
    "mean = np.mean(x_train)\n",
    "std = np.std(x_train)\n",
    "x_train = (x_train-mean)/(std+1e-7)\n",
    "x_test = (x_test-mean)/(std+1e-7)"
   ]
  },
  {
   "cell_type": "markdown",
   "id": "9e595d9d",
   "metadata": {
    "papermill": {
     "duration": 0.036966,
     "end_time": "2021-07-27T12:36:20.676669",
     "exception": false,
     "start_time": "2021-07-27T12:36:20.639703",
     "status": "completed"
    },
    "tags": []
   },
   "source": [
    "We also need to convert our label dataset to categorical structure, It is similar to the one hot encoding "
   ]
  },
  {
   "cell_type": "code",
   "execution_count": 7,
   "id": "e5f86ebc",
   "metadata": {
    "execution": {
     "iopub.execute_input": "2021-07-27T12:36:20.755528Z",
     "iopub.status.busy": "2021-07-27T12:36:20.754858Z",
     "iopub.status.idle": "2021-07-27T12:36:20.758296Z",
     "shell.execute_reply": "2021-07-27T12:36:20.757877Z",
     "shell.execute_reply.started": "2021-07-27T10:26:25.688772Z"
    },
    "papermill": {
     "duration": 0.0447,
     "end_time": "2021-07-27T12:36:20.758394",
     "exception": false,
     "start_time": "2021-07-27T12:36:20.713694",
     "status": "completed"
    },
    "tags": []
   },
   "outputs": [
    {
     "data": {
      "text/plain": [
       "(10000, 32, 32, 3)"
      ]
     },
     "execution_count": 7,
     "metadata": {},
     "output_type": "execute_result"
    }
   ],
   "source": [
    "x_test.shape"
   ]
  },
  {
   "cell_type": "code",
   "execution_count": 8,
   "id": "c59df574",
   "metadata": {
    "execution": {
     "iopub.execute_input": "2021-07-27T12:36:20.837006Z",
     "iopub.status.busy": "2021-07-27T12:36:20.836181Z",
     "iopub.status.idle": "2021-07-27T12:36:20.841045Z",
     "shell.execute_reply": "2021-07-27T12:36:20.840604Z",
     "shell.execute_reply.started": "2021-07-27T10:26:26.791768Z"
    },
    "papermill": {
     "duration": 0.045518,
     "end_time": "2021-07-27T12:36:20.841147",
     "exception": false,
     "start_time": "2021-07-27T12:36:20.795629",
     "status": "completed"
    },
    "tags": []
   },
   "outputs": [],
   "source": [
    "y_train = keras.utils.to_categorical(y_train, num_classes=10)\n",
    "y_test = keras.utils.to_categorical(y_test, num_classes = 10)"
   ]
  },
  {
   "cell_type": "code",
   "execution_count": 9,
   "id": "8991278d",
   "metadata": {
    "execution": {
     "iopub.execute_input": "2021-07-27T12:36:20.920393Z",
     "iopub.status.busy": "2021-07-27T12:36:20.919744Z",
     "iopub.status.idle": "2021-07-27T12:36:20.923074Z",
     "shell.execute_reply": "2021-07-27T12:36:20.922660Z",
     "shell.execute_reply.started": "2021-07-27T10:26:27.760767Z"
    },
    "papermill": {
     "duration": 0.044923,
     "end_time": "2021-07-27T12:36:20.923175",
     "exception": false,
     "start_time": "2021-07-27T12:36:20.878252",
     "status": "completed"
    },
    "tags": []
   },
   "outputs": [
    {
     "data": {
      "text/plain": [
       "((10000, 32, 32, 3), (10000, 10))"
      ]
     },
     "execution_count": 9,
     "metadata": {},
     "output_type": "execute_result"
    }
   ],
   "source": [
    "x_test.shape , y_test.shape"
   ]
  },
  {
   "cell_type": "markdown",
   "id": "34e0ced3",
   "metadata": {
    "papermill": {
     "duration": 0.040402,
     "end_time": "2021-07-27T12:36:21.001202",
     "exception": false,
     "start_time": "2021-07-27T12:36:20.960800",
     "status": "completed"
    },
    "tags": []
   },
   "source": [
    "## First, Simple Model"
   ]
  },
  {
   "cell_type": "markdown",
   "id": "ff736b29",
   "metadata": {
    "papermill": {
     "duration": 0.037647,
     "end_time": "2021-07-27T12:36:21.076680",
     "exception": false,
     "start_time": "2021-07-27T12:36:21.039033",
     "status": "completed"
    },
    "tags": []
   },
   "source": [
    "* Let's understand our code line by line  \n",
    "     1) We have created sequential model\n",
    "     2) We are adding 32 convolution filter of size (3,3) having same input and output shape.  \n",
    "     3) Then we are adding maxpooling layer which will reduce the x and y dimention by 2.    \n",
    "     4) We will add dropout layer, Which will ensure that multiple neuron will learn how to identify part of image.  \n",
    "     5) We are flattening our image to one dimentional array by using flatten.  .  \n",
    "     6) We are using dense layer with 512 neuron, With activation function selu. Which is maximum of alpha(exp(z) -1 ) or z.    \n",
    "     7) We will again use dropout to drop 50% of neuron.  \n",
    "     8) Now we will use softmax to get probablities of each class.  \n",
    "    "
   ]
  },
  {
   "cell_type": "code",
   "execution_count": 10,
   "id": "4cd232de",
   "metadata": {
    "execution": {
     "iopub.execute_input": "2021-07-27T12:36:21.157994Z",
     "iopub.status.busy": "2021-07-27T12:36:21.157473Z",
     "iopub.status.idle": "2021-07-27T12:36:23.283315Z",
     "shell.execute_reply": "2021-07-27T12:36:23.282463Z",
     "shell.execute_reply.started": "2021-07-27T10:26:30.545127Z"
    },
    "papermill": {
     "duration": 2.16876,
     "end_time": "2021-07-27T12:36:23.283464",
     "exception": false,
     "start_time": "2021-07-27T12:36:21.114704",
     "status": "completed"
    },
    "tags": []
   },
   "outputs": [],
   "source": [
    "model = keras.models.Sequential()\n",
    "\n",
    "model.add(keras.layers.Convolution2D(32, (3,3), input_shape = x_train.shape[1:], activation ='selu'))\n",
    "model.add(keras.layers.MaxPooling2D(pool_size = (2,2)))\n",
    "model.add(keras.layers.Dropout(0.20))\n",
    "\n",
    "model.add(keras.layers.Flatten())\n",
    "model.add(keras.layers.Dense(512, activation = 'selu'))\n",
    "model.add(keras.layers.Dropout(0.5))\n",
    "model.add(keras.layers.Dense(10, activation ='softmax'))"
   ]
  },
  {
   "cell_type": "code",
   "execution_count": 11,
   "id": "61926da2",
   "metadata": {
    "execution": {
     "iopub.execute_input": "2021-07-27T12:36:23.369603Z",
     "iopub.status.busy": "2021-07-27T12:36:23.368772Z",
     "iopub.status.idle": "2021-07-27T12:36:23.374364Z",
     "shell.execute_reply": "2021-07-27T12:36:23.373965Z",
     "shell.execute_reply.started": "2021-07-27T10:26:31.760347Z"
    },
    "papermill": {
     "duration": 0.052691,
     "end_time": "2021-07-27T12:36:23.374472",
     "exception": false,
     "start_time": "2021-07-27T12:36:23.321781",
     "status": "completed"
    },
    "tags": []
   },
   "outputs": [],
   "source": [
    "model.compile(loss = 'categorical_crossentropy',\n",
    "             optimizer = tf.keras.optimizers.RMSprop(),\n",
    "             metrics = ['accuracy'])"
   ]
  },
  {
   "cell_type": "code",
   "execution_count": 12,
   "id": "48a90c22",
   "metadata": {
    "execution": {
     "iopub.execute_input": "2021-07-27T12:36:23.453673Z",
     "iopub.status.busy": "2021-07-27T12:36:23.453130Z",
     "iopub.status.idle": "2021-07-27T12:38:05.579897Z",
     "shell.execute_reply": "2021-07-27T12:38:05.580332Z",
     "shell.execute_reply.started": "2021-07-27T10:26:32.880171Z"
    },
    "papermill": {
     "duration": 102.168452,
     "end_time": "2021-07-27T12:38:05.580495",
     "exception": false,
     "start_time": "2021-07-27T12:36:23.412043",
     "status": "completed"
    },
    "tags": []
   },
   "outputs": [
    {
     "name": "stdout",
     "output_type": "stream",
     "text": [
      "Epoch 1/20\n",
      "1250/1250 [==============================] - 13s 4ms/step - loss: 2.2966 - accuracy: 0.3768 - val_loss: 1.4026 - val_accuracy: 0.5058\n",
      "Epoch 2/20\n",
      "1250/1250 [==============================] - 5s 4ms/step - loss: 1.3837 - accuracy: 0.5182 - val_loss: 1.2927 - val_accuracy: 0.5493\n",
      "Epoch 3/20\n",
      "1250/1250 [==============================] - 5s 4ms/step - loss: 1.2809 - accuracy: 0.5554 - val_loss: 1.2343 - val_accuracy: 0.5686\n",
      "Epoch 4/20\n",
      "1250/1250 [==============================] - 5s 4ms/step - loss: 1.1942 - accuracy: 0.5892 - val_loss: 1.1970 - val_accuracy: 0.5887\n",
      "Epoch 5/20\n",
      "1250/1250 [==============================] - 5s 4ms/step - loss: 1.1249 - accuracy: 0.6107 - val_loss: 1.1551 - val_accuracy: 0.6045\n",
      "Epoch 6/20\n",
      "1250/1250 [==============================] - 4s 4ms/step - loss: 1.0507 - accuracy: 0.6442 - val_loss: 1.1050 - val_accuracy: 0.6267\n",
      "Epoch 7/20\n",
      "1250/1250 [==============================] - 5s 4ms/step - loss: 0.9902 - accuracy: 0.6635 - val_loss: 1.1940 - val_accuracy: 0.6042\n",
      "Epoch 8/20\n",
      "1250/1250 [==============================] - 5s 4ms/step - loss: 0.9284 - accuracy: 0.6841 - val_loss: 1.1277 - val_accuracy: 0.6279\n",
      "Epoch 9/20\n",
      "1250/1250 [==============================] - 5s 4ms/step - loss: 0.8709 - accuracy: 0.7044 - val_loss: 1.1458 - val_accuracy: 0.6331\n",
      "Epoch 10/20\n",
      "1250/1250 [==============================] - 5s 4ms/step - loss: 0.8325 - accuracy: 0.7206 - val_loss: 1.2165 - val_accuracy: 0.6260\n",
      "Epoch 11/20\n",
      "1250/1250 [==============================] - 5s 4ms/step - loss: 0.7873 - accuracy: 0.7339 - val_loss: 1.1434 - val_accuracy: 0.6408\n",
      "Epoch 12/20\n",
      "1250/1250 [==============================] - 5s 4ms/step - loss: 0.7343 - accuracy: 0.7572 - val_loss: 1.2335 - val_accuracy: 0.6385\n",
      "Epoch 13/20\n",
      "1250/1250 [==============================] - 4s 4ms/step - loss: 0.7083 - accuracy: 0.7678 - val_loss: 1.3247 - val_accuracy: 0.6288\n",
      "Epoch 14/20\n",
      "1250/1250 [==============================] - 5s 4ms/step - loss: 0.6678 - accuracy: 0.7773 - val_loss: 1.2663 - val_accuracy: 0.6501\n",
      "Epoch 15/20\n",
      "1250/1250 [==============================] - 5s 4ms/step - loss: 0.6404 - accuracy: 0.7929 - val_loss: 1.3660 - val_accuracy: 0.6307\n",
      "Epoch 16/20\n",
      "1250/1250 [==============================] - 4s 4ms/step - loss: 0.6124 - accuracy: 0.8035 - val_loss: 1.3984 - val_accuracy: 0.6363\n",
      "Epoch 17/20\n",
      "1250/1250 [==============================] - 5s 4ms/step - loss: 0.5848 - accuracy: 0.8147 - val_loss: 1.4224 - val_accuracy: 0.6375\n",
      "Epoch 18/20\n",
      "1250/1250 [==============================] - 5s 4ms/step - loss: 0.5677 - accuracy: 0.8193 - val_loss: 1.4185 - val_accuracy: 0.6526\n",
      "Epoch 19/20\n",
      "1250/1250 [==============================] - 5s 4ms/step - loss: 0.5541 - accuracy: 0.8270 - val_loss: 1.4413 - val_accuracy: 0.6499\n",
      "Epoch 20/20\n",
      "1250/1250 [==============================] - 5s 4ms/step - loss: 0.5291 - accuracy: 0.8334 - val_loss: 1.5547 - val_accuracy: 0.6379\n"
     ]
    }
   ],
   "source": [
    "history = model.fit(x_train, y_train, epochs = 20, \n",
    "         validation_split=0.2)"
   ]
  },
  {
   "cell_type": "markdown",
   "id": "55259dd3",
   "metadata": {
    "papermill": {
     "duration": 0.43898,
     "end_time": "2021-07-27T12:38:06.459863",
     "exception": false,
     "start_time": "2021-07-27T12:38:06.020883",
     "status": "completed"
    },
    "tags": []
   },
   "source": [
    "As we can seee from the figure,  \n",
    "about Training,  Training accuracy increasing with descresed in training loss  \n",
    "about Validation, Validation increasing but loss is fluctuacting for a while and the increased"
   ]
  },
  {
   "cell_type": "code",
   "execution_count": 13,
   "id": "660c6e91",
   "metadata": {
    "execution": {
     "iopub.execute_input": "2021-07-27T12:38:07.652098Z",
     "iopub.status.busy": "2021-07-27T12:38:07.650891Z",
     "iopub.status.idle": "2021-07-27T12:38:08.048324Z",
     "shell.execute_reply": "2021-07-27T12:38:08.047856Z",
     "shell.execute_reply.started": "2021-07-27T10:28:25.326303Z"
    },
    "papermill": {
     "duration": 1.144014,
     "end_time": "2021-07-27T12:38:08.048446",
     "exception": false,
     "start_time": "2021-07-27T12:38:06.904432",
     "status": "completed"
    },
    "tags": []
   },
   "outputs": [
    {
     "data": {
      "text/plain": [
       "<AxesSubplot:>"
      ]
     },
     "execution_count": 13,
     "metadata": {},
     "output_type": "execute_result"
    },
    {
     "data": {
      "image/png": "[encoded data removed]",
      "text/plain": [
       "<Figure size 432x288 with 1 Axes>"
      ]
     },
     "metadata": {
      "needs_background": "light"
     },
     "output_type": "display_data"
    }
   ],
   "source": [
    "pd.DataFrame(history.history).plot()"
   ]
  },
  {
   "cell_type": "markdown",
   "id": "fdf5ff9c",
   "metadata": {
    "papermill": {
     "duration": 0.43768,
     "end_time": "2021-07-27T12:38:08.943791",
     "exception": false,
     "start_time": "2021-07-27T12:38:08.506111",
     "status": "completed"
    },
    "tags": []
   },
   "source": [
    "But though our data is getting good accuracy on training it is not perorming well with test data, We got only 67% accuracy"
   ]
  },
  {
   "cell_type": "code",
   "execution_count": 14,
   "id": "33fa92f8",
   "metadata": {
    "execution": {
     "iopub.execute_input": "2021-07-27T12:38:09.928124Z",
     "iopub.status.busy": "2021-07-27T12:38:09.927133Z",
     "iopub.status.idle": "2021-07-27T12:38:10.870230Z",
     "shell.execute_reply": "2021-07-27T12:38:10.870880Z",
     "shell.execute_reply.started": "2021-07-27T10:28:25.627747Z"
    },
    "papermill": {
     "duration": 1.4183,
     "end_time": "2021-07-27T12:38:10.871056",
     "exception": false,
     "start_time": "2021-07-27T12:38:09.452756",
     "status": "completed"
    },
    "tags": []
   },
   "outputs": [
    {
     "name": "stdout",
     "output_type": "stream",
     "text": [
      "313/313 [==============================] - 1s 2ms/step - loss: 1.5661 - accuracy: 0.6361\n"
     ]
    }
   ],
   "source": [
    "score = model.evaluate(x_test, y_test)"
   ]
  },
  {
   "cell_type": "markdown",
   "id": "e295cf87",
   "metadata": {
    "papermill": {
     "duration": 0.46954,
     "end_time": "2021-07-27T12:38:11.824352",
     "exception": false,
     "start_time": "2021-07-27T12:38:11.354812",
     "status": "completed"
    },
    "tags": []
   },
   "source": [
    "## Second Model accuracy 82%"
   ]
  },
  {
   "cell_type": "code",
   "execution_count": 15,
   "id": "a3a634db",
   "metadata": {
    "execution": {
     "iopub.execute_input": "2021-07-27T12:38:13.018770Z",
     "iopub.status.busy": "2021-07-27T12:38:13.017974Z",
     "iopub.status.idle": "2021-07-27T12:38:13.173769Z",
     "shell.execute_reply": "2021-07-27T12:38:13.172983Z",
     "shell.execute_reply.started": "2021-07-27T10:28:27.376084Z"
    },
    "papermill": {
     "duration": 0.67627,
     "end_time": "2021-07-27T12:38:13.173974",
     "exception": false,
     "start_time": "2021-07-27T12:38:12.497704",
     "status": "completed"
    },
    "tags": []
   },
   "outputs": [
    {
     "name": "stdout",
     "output_type": "stream",
     "text": [
      "Model: \"sequential_1\"\n",
      "_________________________________________________________________\n",
      "Layer (type)                 Output Shape              Param #   \n",
      "=================================================================\n",
      "conv2d_1 (Conv2D)            (None, 32, 32, 32)        896       \n",
      "_________________________________________________________________\n",
      "batch_normalization (BatchNo (None, 32, 32, 32)        128       \n",
      "_________________________________________________________________\n",
      "conv2d_2 (Conv2D)            (None, 32, 32, 32)        9248      \n",
      "_________________________________________________________________\n",
      "batch_normalization_1 (Batch (None, 32, 32, 32)        128       \n",
      "_________________________________________________________________\n",
      "max_pooling2d_1 (MaxPooling2 (None, 16, 16, 32)        0         \n",
      "_________________________________________________________________\n",
      "dropout_2 (Dropout)          (None, 16, 16, 32)        0         \n",
      "_________________________________________________________________\n",
      "conv2d_3 (Conv2D)            (None, 16, 16, 64)        18496     \n",
      "_________________________________________________________________\n",
      "batch_normalization_2 (Batch (None, 16, 16, 64)        256       \n",
      "_________________________________________________________________\n",
      "conv2d_4 (Conv2D)            (None, 16, 16, 64)        36928     \n",
      "_________________________________________________________________\n",
      "batch_normalization_3 (Batch (None, 16, 16, 64)        256       \n",
      "_________________________________________________________________\n",
      "max_pooling2d_2 (MaxPooling2 (None, 8, 8, 64)          0         \n",
      "_________________________________________________________________\n",
      "dropout_3 (Dropout)          (None, 8, 8, 64)          0         \n",
      "_________________________________________________________________\n",
      "conv2d_5 (Conv2D)            (None, 8, 8, 128)         73856     \n",
      "_________________________________________________________________\n",
      "batch_normalization_4 (Batch (None, 8, 8, 128)         512       \n",
      "_________________________________________________________________\n",
      "conv2d_6 (Conv2D)            (None, 8, 8, 128)         147584    \n",
      "_________________________________________________________________\n",
      "batch_normalization_5 (Batch (None, 8, 8, 128)         512       \n",
      "_________________________________________________________________\n",
      "max_pooling2d_3 (MaxPooling2 (None, 4, 4, 128)         0         \n",
      "_________________________________________________________________\n",
      "dropout_4 (Dropout)          (None, 4, 4, 128)         0         \n",
      "_________________________________________________________________\n",
      "flatten_1 (Flatten)          (None, 2048)              0         \n",
      "_________________________________________________________________\n",
      "dense_2 (Dense)              (None, 10)                20490     \n",
      "=================================================================\n",
      "Total params: 309,290\n",
      "Trainable params: 308,394\n",
      "Non-trainable params: 896\n",
      "_________________________________________________________________\n"
     ]
    }
   ],
   "source": [
    "model = keras.models.Sequential()\n",
    "model.add(keras.layers.Convolution2D(32, (3,3), activation = 'relu', input_shape = x_train.shape[1:], padding = 'same'))\n",
    "model.add(keras.layers.BatchNormalization())\n",
    "model.add(keras.layers.Convolution2D(32, (3,3), activation = 'relu', input_shape = x_train.shape[1:], padding = 'same'))\n",
    "model.add(keras.layers.BatchNormalization())\n",
    "model.add(keras.layers.MaxPooling2D(pool_size = (2,2)))\n",
    "model.add(keras.layers.Dropout(0.2))\n",
    "\n",
    "model.add(keras.layers.Convolution2D(64, (3,3), activation = 'relu', input_shape = x_train.shape[1:], padding = 'same'))\n",
    "model.add(keras.layers.BatchNormalization())\n",
    "model.add(keras.layers.Convolution2D(64, (3,3), activation = 'relu', input_shape = x_train.shape[1:], padding = 'same'))\n",
    "model.add(keras.layers.BatchNormalization())\n",
    "model.add(keras.layers.MaxPooling2D(pool_size = (2,2)))\n",
    "model.add(keras.layers.Dropout(0.25))\n",
    "\n",
    "\n",
    "model.add(keras.layers.Convolution2D(128, (3,3), activation = 'relu', input_shape = x_train.shape[1:], padding = 'same'))\n",
    "model.add(keras.layers.BatchNormalization())\n",
    "model.add(keras.layers.Convolution2D(128, (3,3), activation = 'relu', input_shape = x_train.shape[1:], padding = 'same'))\n",
    "model.add(keras.layers.BatchNormalization())\n",
    "model.add(keras.layers.MaxPooling2D(pool_size = (2,2)))\n",
    "model.add(keras.layers.Dropout(0.3))\n",
    "\n",
    "model.add(keras.layers.Flatten())\n",
    "model.add(keras.layers.Dense(10, activation = 'softmax'))\n",
    "model.summary()"
   ]
  },
  {
   "cell_type": "code",
   "execution_count": 16,
   "id": "d70cf0c4",
   "metadata": {
    "execution": {
     "iopub.execute_input": "2021-07-27T12:38:14.122385Z",
     "iopub.status.busy": "2021-07-27T12:38:14.121415Z",
     "iopub.status.idle": "2021-07-27T12:38:14.127685Z",
     "shell.execute_reply": "2021-07-27T12:38:14.127202Z",
     "shell.execute_reply.started": "2021-07-27T10:28:27.576873Z"
    },
    "papermill": {
     "duration": 0.483516,
     "end_time": "2021-07-27T12:38:14.127838",
     "exception": false,
     "start_time": "2021-07-27T12:38:13.644322",
     "status": "completed"
    },
    "tags": []
   },
   "outputs": [],
   "source": [
    "model.compile(loss = 'categorical_crossentropy',\n",
    "             optimizer = tf.keras.optimizers.RMSprop(),\n",
    "             metrics = ['accuracy'])"
   ]
  },
  {
   "cell_type": "code",
   "execution_count": 17,
   "id": "793bf79d",
   "metadata": {
    "execution": {
     "iopub.execute_input": "2021-07-27T12:38:15.075605Z",
     "iopub.status.busy": "2021-07-27T12:38:15.074664Z",
     "iopub.status.idle": "2021-07-27T12:41:01.607445Z",
     "shell.execute_reply": "2021-07-27T12:41:01.606994Z",
     "shell.execute_reply.started": "2021-07-27T10:28:27.597537Z"
    },
    "papermill": {
     "duration": 167.006348,
     "end_time": "2021-07-27T12:41:01.607572",
     "exception": false,
     "start_time": "2021-07-27T12:38:14.601224",
     "status": "completed"
    },
    "tags": []
   },
   "outputs": [
    {
     "name": "stdout",
     "output_type": "stream",
     "text": [
      "Epoch 1/20\n",
      "1250/1250 [==============================] - 10s 7ms/step - loss: 2.1818 - accuracy: 0.3844 - val_loss: 1.2660 - val_accuracy: 0.6091\n",
      "Epoch 2/20\n",
      "1250/1250 [==============================] - 9s 7ms/step - loss: 1.0758 - accuracy: 0.6412 - val_loss: 0.8462 - val_accuracy: 0.7131\n",
      "Epoch 3/20\n",
      "1250/1250 [==============================] - 8s 6ms/step - loss: 0.8522 - accuracy: 0.7094 - val_loss: 0.7226 - val_accuracy: 0.7478\n",
      "Epoch 4/20\n",
      "1250/1250 [==============================] - 9s 7ms/step - loss: 0.7061 - accuracy: 0.7554 - val_loss: 0.6509 - val_accuracy: 0.7799\n",
      "Epoch 5/20\n",
      "1250/1250 [==============================] - 8s 6ms/step - loss: 0.6167 - accuracy: 0.7873 - val_loss: 0.5964 - val_accuracy: 0.7950\n",
      "Epoch 6/20\n",
      "1250/1250 [==============================] - 8s 6ms/step - loss: 0.5501 - accuracy: 0.8104 - val_loss: 0.6050 - val_accuracy: 0.8022\n",
      "Epoch 7/20\n",
      "1250/1250 [==============================] - 8s 6ms/step - loss: 0.4914 - accuracy: 0.8290 - val_loss: 0.5627 - val_accuracy: 0.8102\n",
      "Epoch 8/20\n",
      "1250/1250 [==============================] - 9s 7ms/step - loss: 0.4437 - accuracy: 0.8457 - val_loss: 0.5626 - val_accuracy: 0.8115\n",
      "Epoch 9/20\n",
      "1250/1250 [==============================] - 8s 7ms/step - loss: 0.4126 - accuracy: 0.8553 - val_loss: 0.5240 - val_accuracy: 0.8256\n",
      "Epoch 10/20\n",
      "1250/1250 [==============================] - 8s 6ms/step - loss: 0.3805 - accuracy: 0.8665 - val_loss: 0.5101 - val_accuracy: 0.8287\n",
      "Epoch 11/20\n",
      "1250/1250 [==============================] - 8s 6ms/step - loss: 0.3499 - accuracy: 0.8777 - val_loss: 0.5024 - val_accuracy: 0.8333\n",
      "Epoch 12/20\n",
      "1250/1250 [==============================] - 8s 7ms/step - loss: 0.3395 - accuracy: 0.8794 - val_loss: 0.5057 - val_accuracy: 0.8370\n",
      "Epoch 13/20\n",
      "1250/1250 [==============================] - 8s 7ms/step - loss: 0.3125 - accuracy: 0.8889 - val_loss: 0.5480 - val_accuracy: 0.8282\n",
      "Epoch 14/20\n",
      "1250/1250 [==============================] - 8s 6ms/step - loss: 0.2946 - accuracy: 0.8956 - val_loss: 0.5119 - val_accuracy: 0.8399\n",
      "Epoch 15/20\n",
      "1250/1250 [==============================] - 8s 6ms/step - loss: 0.2851 - accuracy: 0.8996 - val_loss: 0.5211 - val_accuracy: 0.8354\n",
      "Epoch 16/20\n",
      "1250/1250 [==============================] - 9s 7ms/step - loss: 0.2630 - accuracy: 0.9077 - val_loss: 0.5133 - val_accuracy: 0.8397\n",
      "Epoch 17/20\n",
      "1250/1250 [==============================] - 9s 7ms/step - loss: 0.2523 - accuracy: 0.9108 - val_loss: 0.5247 - val_accuracy: 0.8404\n",
      "Epoch 18/20\n",
      "1250/1250 [==============================] - 8s 7ms/step - loss: 0.2467 - accuracy: 0.9143 - val_loss: 0.5404 - val_accuracy: 0.8379\n",
      "Epoch 19/20\n",
      "1250/1250 [==============================] - 8s 6ms/step - loss: 0.2356 - accuracy: 0.9167 - val_loss: 0.5331 - val_accuracy: 0.8445\n",
      "Epoch 20/20\n",
      "1250/1250 [==============================] - 8s 7ms/step - loss: 0.2256 - accuracy: 0.9186 - val_loss: 0.5186 - val_accuracy: 0.8413\n"
     ]
    }
   ],
   "source": [
    "history = model.fit(x_train, y_train, epochs = 20, validation_split = 0.2)"
   ]
  },
  {
   "cell_type": "code",
   "execution_count": 18,
   "id": "9bcc777c",
   "metadata": {
    "execution": {
     "iopub.execute_input": "2021-07-27T12:41:03.905560Z",
     "iopub.status.busy": "2021-07-27T12:41:03.891533Z",
     "iopub.status.idle": "2021-07-27T12:41:04.070058Z",
     "shell.execute_reply": "2021-07-27T12:41:04.070481Z",
     "shell.execute_reply.started": "2021-07-27T10:32:10.234014Z"
    },
    "papermill": {
     "duration": 1.336846,
     "end_time": "2021-07-27T12:41:04.070624",
     "exception": false,
     "start_time": "2021-07-27T12:41:02.733778",
     "status": "completed"
    },
    "tags": []
   },
   "outputs": [
    {
     "data": {
      "text/plain": [
       "<AxesSubplot:>"
      ]
     },
     "execution_count": 18,
     "metadata": {},
     "output_type": "execute_result"
    },
    {
     "data": {
      "image/png": "[encoded data removed]",
      "text/plain": [
       "<Figure size 432x288 with 1 Axes>"
      ]
     },
     "metadata": {
      "needs_background": "light"
     },
     "output_type": "display_data"
    }
   ],
   "source": [
    "pd.DataFrame(history.history).plot()"
   ]
  },
  {
   "cell_type": "code",
   "execution_count": 19,
   "id": "beced03e",
   "metadata": {
    "execution": {
     "iopub.execute_input": "2021-07-27T12:41:06.342904Z",
     "iopub.status.busy": "2021-07-27T12:41:06.342084Z",
     "iopub.status.idle": "2021-07-27T12:41:07.440554Z",
     "shell.execute_reply": "2021-07-27T12:41:07.441038Z",
     "shell.execute_reply.started": "2021-07-27T10:32:10.518666Z"
    },
    "papermill": {
     "duration": 2.243967,
     "end_time": "2021-07-27T12:41:07.441188",
     "exception": false,
     "start_time": "2021-07-27T12:41:05.197221",
     "status": "completed"
    },
    "tags": []
   },
   "outputs": [
    {
     "name": "stdout",
     "output_type": "stream",
     "text": [
      "313/313 [==============================] - 1s 3ms/step - loss: 0.5327 - accuracy: 0.8382\n"
     ]
    },
    {
     "data": {
      "text/plain": [
       "[0.5327353477478027, 0.8381999731063843]"
      ]
     },
     "execution_count": 19,
     "metadata": {},
     "output_type": "execute_result"
    }
   ],
   "source": [
    "model.evaluate(x_test, y_test)"
   ]
  },
  {
   "cell_type": "markdown",
   "id": "bcbcbdd3",
   "metadata": {
    "papermill": {
     "duration": 1.14047,
     "end_time": "2021-07-27T12:41:09.976365",
     "exception": false,
     "start_time": "2021-07-27T12:41:08.835895",
     "status": "completed"
    },
    "tags": []
   },
   "source": [
    "## Third Model"
   ]
  },
  {
   "cell_type": "markdown",
   "id": "b3945a29",
   "metadata": {
    "papermill": {
     "duration": 1.137004,
     "end_time": "2021-07-27T12:41:12.251595",
     "exception": false,
     "start_time": "2021-07-27T12:41:11.114591",
     "status": "completed"
    },
    "tags": []
   },
   "source": [
    "### With ImageDataGenerator Accuracy 84%"
   ]
  },
  {
   "cell_type": "markdown",
   "id": "82ad188e",
   "metadata": {
    "papermill": {
     "duration": 1.189024,
     "end_time": "2021-07-27T12:41:14.578386",
     "exception": false,
     "start_time": "2021-07-27T12:41:13.389362",
     "status": "completed"
    },
    "tags": []
   },
   "source": [
    "We will try to get more training data using IMAGEDATAFENERATOR"
   ]
  },
  {
   "cell_type": "code",
   "execution_count": 20,
   "id": "e1dcec56",
   "metadata": {
    "execution": {
     "iopub.execute_input": "2021-07-27T12:41:17.338195Z",
     "iopub.status.busy": "2021-07-27T12:41:17.336941Z",
     "iopub.status.idle": "2021-07-27T12:41:17.560123Z",
     "shell.execute_reply": "2021-07-27T12:41:17.559645Z",
     "shell.execute_reply.started": "2021-07-27T10:32:11.946243Z"
    },
    "papermill": {
     "duration": 1.845396,
     "end_time": "2021-07-27T12:41:17.560254",
     "exception": false,
     "start_time": "2021-07-27T12:41:15.714858",
     "status": "completed"
    },
    "tags": []
   },
   "outputs": [],
   "source": [
    "from tensorflow.keras.preprocessing.image import ImageDataGenerator\n",
    "datagen = ImageDataGenerator(\n",
    " rotation_range=30,\n",
    " width_shift_range=0.2,\n",
    " height_shift_range=0.2,\n",
    " horizontal_flip=True,\n",
    " )\n",
    "datagen.fit(x_train)"
   ]
  },
  {
   "cell_type": "code",
   "execution_count": 21,
   "id": "238324db",
   "metadata": {
    "execution": {
     "iopub.execute_input": "2021-07-27T12:41:20.120943Z",
     "iopub.status.busy": "2021-07-27T12:41:20.120143Z",
     "iopub.status.idle": "2021-07-27T13:01:36.170673Z",
     "shell.execute_reply": "2021-07-27T13:01:36.170067Z",
     "shell.execute_reply.started": "2021-07-27T10:32:12.201358Z"
    },
    "papermill": {
     "duration": 1217.45015,
     "end_time": "2021-07-27T13:01:36.170862",
     "exception": false,
     "start_time": "2021-07-27T12:41:18.720712",
     "status": "completed"
    },
    "tags": []
   },
   "outputs": [
    {
     "name": "stdout",
     "output_type": "stream",
     "text": [
      "Epoch 1/40\n",
      "782/782 [==============================] - 29s 37ms/step - loss: 0.9804 - accuracy: 0.6785 - val_loss: 0.6341 - val_accuracy: 0.7901\n",
      "Epoch 2/40\n",
      "782/782 [==============================] - 30s 39ms/step - loss: 0.8306 - accuracy: 0.7132 - val_loss: 0.6243 - val_accuracy: 0.7962\n",
      "Epoch 3/40\n",
      "782/782 [==============================] - 30s 38ms/step - loss: 0.7848 - accuracy: 0.7279 - val_loss: 0.6323 - val_accuracy: 0.7916\n",
      "Epoch 4/40\n",
      "782/782 [==============================] - 30s 38ms/step - loss: 0.7549 - accuracy: 0.7405 - val_loss: 0.6117 - val_accuracy: 0.8042\n",
      "Epoch 5/40\n",
      "782/782 [==============================] - 30s 38ms/step - loss: 0.7363 - accuracy: 0.7448 - val_loss: 0.5690 - val_accuracy: 0.8107\n",
      "Epoch 6/40\n",
      "782/782 [==============================] - 30s 38ms/step - loss: 0.7131 - accuracy: 0.7549 - val_loss: 0.5421 - val_accuracy: 0.8153\n",
      "Epoch 7/40\n",
      "782/782 [==============================] - 31s 39ms/step - loss: 0.7039 - accuracy: 0.7578 - val_loss: 0.5935 - val_accuracy: 0.8061\n",
      "Epoch 8/40\n",
      "782/782 [==============================] - 30s 38ms/step - loss: 0.6810 - accuracy: 0.7640 - val_loss: 0.6193 - val_accuracy: 0.7970\n",
      "Epoch 9/40\n",
      "782/782 [==============================] - 32s 41ms/step - loss: 0.6717 - accuracy: 0.7668 - val_loss: 0.5681 - val_accuracy: 0.8132\n",
      "Epoch 10/40\n",
      "782/782 [==============================] - 28s 35ms/step - loss: 0.6626 - accuracy: 0.7707 - val_loss: 0.5868 - val_accuracy: 0.8072\n",
      "Epoch 11/40\n",
      "782/782 [==============================] - 31s 39ms/step - loss: 0.6503 - accuracy: 0.7745 - val_loss: 0.5294 - val_accuracy: 0.8246\n",
      "Epoch 12/40\n",
      "782/782 [==============================] - 29s 38ms/step - loss: 0.6435 - accuracy: 0.7799 - val_loss: 0.5465 - val_accuracy: 0.8179\n",
      "Epoch 13/40\n",
      "782/782 [==============================] - 31s 39ms/step - loss: 0.6370 - accuracy: 0.7809 - val_loss: 0.5675 - val_accuracy: 0.8176\n",
      "Epoch 14/40\n",
      "782/782 [==============================] - 32s 41ms/step - loss: 0.6234 - accuracy: 0.7861 - val_loss: 0.5475 - val_accuracy: 0.8254\n",
      "Epoch 15/40\n",
      "782/782 [==============================] - 30s 39ms/step - loss: 0.6221 - accuracy: 0.7872 - val_loss: 0.5000 - val_accuracy: 0.8318\n",
      "Epoch 16/40\n",
      "782/782 [==============================] - 31s 40ms/step - loss: 0.6153 - accuracy: 0.7889 - val_loss: 0.6153 - val_accuracy: 0.8055\n",
      "Epoch 17/40\n",
      "782/782 [==============================] - 28s 36ms/step - loss: 0.6062 - accuracy: 0.7901 - val_loss: 0.5214 - val_accuracy: 0.8231\n",
      "Epoch 18/40\n",
      "782/782 [==============================] - 31s 39ms/step - loss: 0.6041 - accuracy: 0.7928 - val_loss: 0.5106 - val_accuracy: 0.8373\n",
      "Epoch 19/40\n",
      "782/782 [==============================] - 32s 40ms/step - loss: 0.5969 - accuracy: 0.7948 - val_loss: 0.4962 - val_accuracy: 0.8397\n",
      "Epoch 20/40\n",
      "782/782 [==============================] - 31s 39ms/step - loss: 0.5843 - accuracy: 0.7985 - val_loss: 0.4991 - val_accuracy: 0.8395\n",
      "Epoch 21/40\n",
      "782/782 [==============================] - 32s 41ms/step - loss: 0.5892 - accuracy: 0.7953 - val_loss: 0.5220 - val_accuracy: 0.8293\n",
      "Epoch 22/40\n",
      "782/782 [==============================] - 30s 39ms/step - loss: 0.5825 - accuracy: 0.7976 - val_loss: 0.5673 - val_accuracy: 0.8188\n",
      "Epoch 23/40\n",
      "782/782 [==============================] - 31s 39ms/step - loss: 0.5758 - accuracy: 0.8011 - val_loss: 0.4514 - val_accuracy: 0.8494\n",
      "Epoch 24/40\n",
      "782/782 [==============================] - 32s 41ms/step - loss: 0.5733 - accuracy: 0.8015 - val_loss: 0.4870 - val_accuracy: 0.8384\n",
      "Epoch 25/40\n",
      "782/782 [==============================] - 30s 38ms/step - loss: 0.5634 - accuracy: 0.8054 - val_loss: 0.5559 - val_accuracy: 0.8234\n",
      "Epoch 26/40\n",
      "782/782 [==============================] - 33s 43ms/step - loss: 0.5647 - accuracy: 0.8061 - val_loss: 0.4920 - val_accuracy: 0.8373\n",
      "Epoch 27/40\n",
      "782/782 [==============================] - 27s 34ms/step - loss: 0.5613 - accuracy: 0.8068 - val_loss: 0.5273 - val_accuracy: 0.8315\n",
      "Epoch 28/40\n",
      "782/782 [==============================] - 33s 42ms/step - loss: 0.5558 - accuracy: 0.8087 - val_loss: 0.4636 - val_accuracy: 0.8485\n",
      "Epoch 29/40\n",
      "782/782 [==============================] - 28s 36ms/step - loss: 0.5578 - accuracy: 0.8087 - val_loss: 0.4552 - val_accuracy: 0.8520\n",
      "Epoch 30/40\n",
      "782/782 [==============================] - 31s 39ms/step - loss: 0.5564 - accuracy: 0.8077 - val_loss: 0.4980 - val_accuracy: 0.8424\n",
      "Epoch 31/40\n",
      "782/782 [==============================] - 30s 38ms/step - loss: 0.5482 - accuracy: 0.8105 - val_loss: 0.4670 - val_accuracy: 0.8482\n",
      "Epoch 32/40\n",
      "782/782 [==============================] - 27s 34ms/step - loss: 0.5431 - accuracy: 0.8128 - val_loss: 0.5064 - val_accuracy: 0.8328\n",
      "Epoch 33/40\n",
      "782/782 [==============================] - 33s 43ms/step - loss: 0.5400 - accuracy: 0.8149 - val_loss: 0.5173 - val_accuracy: 0.8338\n",
      "Epoch 34/40\n",
      "782/782 [==============================] - 27s 35ms/step - loss: 0.5380 - accuracy: 0.8143 - val_loss: 0.4328 - val_accuracy: 0.8592\n",
      "Epoch 35/40\n",
      "782/782 [==============================] - 34s 43ms/step - loss: 0.5370 - accuracy: 0.8151 - val_loss: 0.4638 - val_accuracy: 0.8552\n",
      "Epoch 36/40\n",
      "782/782 [==============================] - 30s 38ms/step - loss: 0.5288 - accuracy: 0.8192 - val_loss: 0.4831 - val_accuracy: 0.8446\n",
      "Epoch 37/40\n",
      "782/782 [==============================] - 30s 38ms/step - loss: 0.5297 - accuracy: 0.8175 - val_loss: 0.4811 - val_accuracy: 0.8463\n",
      "Epoch 38/40\n",
      "782/782 [==============================] - 32s 41ms/step - loss: 0.5291 - accuracy: 0.8179 - val_loss: 0.5503 - val_accuracy: 0.8298\n",
      "Epoch 39/40\n",
      "782/782 [==============================] - 28s 35ms/step - loss: 0.5266 - accuracy: 0.8183 - val_loss: 0.4676 - val_accuracy: 0.8496\n",
      "Epoch 40/40\n",
      "782/782 [==============================] - 34s 44ms/step - loss: 0.5183 - accuracy: 0.8219 - val_loss: 0.5101 - val_accuracy: 0.8402\n"
     ]
    }
   ],
   "source": [
    "batch_size = 64\n",
    "history = model.fit(datagen.flow(x_train, y_train, \n",
    " batch_size=batch_size),\n",
    " epochs=40,\n",
    " verbose=1,validation_data=(x_test,y_test))"
   ]
  },
  {
   "cell_type": "code",
   "execution_count": 22,
   "id": "892879ac",
   "metadata": {
    "execution": {
     "iopub.execute_input": "2021-07-27T13:01:47.959079Z",
     "iopub.status.busy": "2021-07-27T13:01:47.958511Z",
     "iopub.status.idle": "2021-07-27T13:01:47.997506Z",
     "shell.execute_reply": "2021-07-27T13:01:47.997035Z",
     "shell.execute_reply.started": "2021-07-27T10:57:36.658553Z"
    },
    "papermill": {
     "duration": 5.625397,
     "end_time": "2021-07-27T13:01:47.997629",
     "exception": false,
     "start_time": "2021-07-27T13:01:42.372232",
     "status": "completed"
    },
    "tags": []
   },
   "outputs": [],
   "source": [
    "model_json = model.to_json()\n",
    "\n",
    "with open(r'/kaggle/working/model.json', 'w') as json_file :\n",
    "    json_file.write(model_json)\n",
    "\n",
    "model.save_weights(r'/kaggle/working/model.h5')"
   ]
  },
  {
   "cell_type": "code",
   "execution_count": 23,
   "id": "71cd42c1",
   "metadata": {
    "execution": {
     "iopub.execute_input": "2021-07-27T13:01:59.982611Z",
     "iopub.status.busy": "2021-07-27T13:01:59.960782Z",
     "iopub.status.idle": "2021-07-27T13:02:00.132792Z",
     "shell.execute_reply": "2021-07-27T13:02:00.132344Z",
     "shell.execute_reply.started": "2021-07-27T10:57:39.298534Z"
    },
    "papermill": {
     "duration": 6.289981,
     "end_time": "2021-07-27T13:02:00.132942",
     "exception": false,
     "start_time": "2021-07-27T13:01:53.842961",
     "status": "completed"
    },
    "tags": []
   },
   "outputs": [
    {
     "data": {
      "text/plain": [
       "<AxesSubplot:>"
      ]
     },
     "execution_count": 23,
     "metadata": {},
     "output_type": "execute_result"
    },
    {
     "data": {
      "image/png": "[encoded data removed]",
      "text/plain": [
       "<Figure size 432x288 with 1 Axes>"
      ]
     },
     "metadata": {
      "needs_background": "light"
     },
     "output_type": "display_data"
    }
   ],
   "source": [
    "pd.DataFrame(history.history).plot()"
   ]
  },
  {
   "cell_type": "code",
   "execution_count": 24,
   "id": "c73f1fb8",
   "metadata": {
    "execution": {
     "iopub.execute_input": "2021-07-27T13:02:11.650486Z",
     "iopub.status.busy": "2021-07-27T13:02:11.649538Z",
     "iopub.status.idle": "2021-07-27T13:02:12.776329Z",
     "shell.execute_reply": "2021-07-27T13:02:12.775839Z",
     "shell.execute_reply.started": "2021-07-27T10:57:45.716652Z"
    },
    "papermill": {
     "duration": 6.775167,
     "end_time": "2021-07-27T13:02:12.776453",
     "exception": false,
     "start_time": "2021-07-27T13:02:06.001286",
     "status": "completed"
    },
    "tags": []
   },
   "outputs": [
    {
     "name": "stdout",
     "output_type": "stream",
     "text": [
      "313/313 [==============================] - 1s 3ms/step - loss: 0.5101 - accuracy: 0.8402\n"
     ]
    },
    {
     "data": {
      "text/plain": [
       "[0.5100969672203064, 0.8402000069618225]"
      ]
     },
     "execution_count": 24,
     "metadata": {},
     "output_type": "execute_result"
    }
   ],
   "source": [
    "model.evaluate(x_test, y_test)"
   ]
  }
 ],
 "metadata": {
  "kernelspec": {
   "display_name": "Python 3",
   "language": "python",
   "name": "python3"
  },
  "language_info": {
   "codemirror_mode": {
    "name": "ipython",
    "version": 3
   },
   "file_extension": ".py",
   "mimetype": "text/x-python",
   "name": "python",
   "nbconvert_exporter": "python",
   "pygments_lexer": "ipython3",
   "version": "3.7.10"
  },
  "papermill": {
   "default_parameters": {},
   "duration": 1580.025654,
   "end_time": "2021-07-27T13:02:21.598249",
   "environment_variables": {},
   "exception": null,
   "input_path": "__notebook__.ipynb",
   "output_path": "__notebook__.ipynb",
   "parameters": {},
   "start_time": "2021-07-27T12:36:01.572595",
   "version": "2.3.3"
  }
 },
 "nbformat": 4,
 "nbformat_minor": 5
}
