{
 "cells": [
  {
   "cell_type": "code",
   "execution_count": 1,
   "id": "52561959",
   "metadata": {
    "_cell_guid": "b1076dfc-b9ad-4769-8c92-a6c4dae69d19",
    "_uuid": "8f2839f25d086af736a60e9eeb907d3b93b6e0e5",
    "execution": {
     "iopub.execute_input": "2021-07-26T22:39:59.757840Z",
     "iopub.status.busy": "2021-07-26T22:39:59.757271Z",
     "iopub.status.idle": "2021-07-26T22:39:59.764646Z",
     "shell.execute_reply": "2021-07-26T22:39:59.764131Z",
     "shell.execute_reply.started": "2021-07-26T22:18:27.853863Z"
    },
    "papermill": {
     "duration": 0.031881,
     "end_time": "2021-07-26T22:39:59.764783",
     "exception": false,
     "start_time": "2021-07-26T22:39:59.732902",
     "status": "completed"
    },
    "tags": []
   },
   "outputs": [
    {
     "name": "stdout",
     "output_type": "stream",
     "text": [
      "/kaggle/input/digit-recognizer/sample_submission.csv\n",
      "/kaggle/input/digit-recognizer/train.csv\n",
      "/kaggle/input/digit-recognizer/test.csv\n"
     ]
    }
   ],
   "source": [
    "# This Python 3 environment comes with many helpful analytics libraries installed\n",
    "# It is defined by the kaggle/python Docker image: https://github.com/kaggle/docker-python\n",
    "# For example, here's several helpful packages to load\n",
    "\n",
    "import numpy as np # linear algebra\n",
    "import pandas as pd # data processing, CSV file I/O (e.g. pd.read_csv)\n",
    "\n",
    "# Input data files are available in the read-only \"../input/\" directory\n",
    "# For example, running this (by clicking run or pressing Shift+Enter) will list all files under the input directory\n",
    "\n",
    "import os\n",
    "for dirname, _, filenames in os.walk('/kaggle/input'):\n",
    "    for filename in filenames:\n",
    "        print(os.path.join(dirname, filename))\n",
    "\n",
    "# You can write up to 20GB to the current directory (/kaggle/working/) that gets preserved as output when you create a version using \"Save & Run All\" \n",
    "# You can also write temporary files to /kaggle/temp/, but they won't be saved outside of the current session"
   ]
  },
  {
   "cell_type": "code",
   "execution_count": 2,
   "id": "e093dcb7",
   "metadata": {
    "execution": {
     "iopub.execute_input": "2021-07-26T22:39:59.793235Z",
     "iopub.status.busy": "2021-07-26T22:39:59.792642Z",
     "iopub.status.idle": "2021-07-26T22:40:05.473752Z",
     "shell.execute_reply": "2021-07-26T22:40:05.472845Z",
     "shell.execute_reply.started": "2021-07-26T22:26:29.982784Z"
    },
    "papermill": {
     "duration": 5.697121,
     "end_time": "2021-07-26T22:40:05.473897",
     "exception": false,
     "start_time": "2021-07-26T22:39:59.776776",
     "status": "completed"
    },
    "tags": []
   },
   "outputs": [
    {
     "data": {
      "text/html": [
       "<div>\n",
       "<style scoped>\n",
       "    .dataframe tbody tr th:only-of-type {\n",
       "        vertical-align: middle;\n",
       "    }\n",
       "\n",
       "    .dataframe tbody tr th {\n",
       "        vertical-align: top;\n",
       "    }\n",
       "\n",
       "    .dataframe thead th {\n",
       "        text-align: right;\n",
       "    }\n",
       "</style>\n",
       "<table border=\"1\" class=\"dataframe\">\n",
       "  <thead>\n",
       "    <tr style=\"text-align: right;\">\n",
       "      <th></th>\n",
       "      <th>label</th>\n",
       "      <th>pixel0</th>\n",
       "      <th>pixel1</th>\n",
       "      <th>pixel2</th>\n",
       "      <th>pixel3</th>\n",
       "      <th>pixel4</th>\n",
       "      <th>pixel5</th>\n",
       "      <th>pixel6</th>\n",
       "      <th>pixel7</th>\n",
       "      <th>pixel8</th>\n",
       "      <th>...</th>\n",
       "      <th>pixel774</th>\n",
       "      <th>pixel775</th>\n",
       "      <th>pixel776</th>\n",
       "      <th>pixel777</th>\n",
       "      <th>pixel778</th>\n",
       "      <th>pixel779</th>\n",
       "      <th>pixel780</th>\n",
       "      <th>pixel781</th>\n",
       "      <th>pixel782</th>\n",
       "      <th>pixel783</th>\n",
       "    </tr>\n",
       "  </thead>\n",
       "  <tbody>\n",
       "    <tr>\n",
       "      <th>0</th>\n",
       "      <td>1</td>\n",
       "      <td>0</td>\n",
       "      <td>0</td>\n",
       "      <td>0</td>\n",
       "      <td>0</td>\n",
       "      <td>0</td>\n",
       "      <td>0</td>\n",
       "      <td>0</td>\n",
       "      <td>0</td>\n",
       "      <td>0</td>\n",
       "      <td>...</td>\n",
       "      <td>0</td>\n",
       "      <td>0</td>\n",
       "      <td>0</td>\n",
       "      <td>0</td>\n",
       "      <td>0</td>\n",
       "      <td>0</td>\n",
       "      <td>0</td>\n",
       "      <td>0</td>\n",
       "      <td>0</td>\n",
       "      <td>0</td>\n",
       "    </tr>\n",
       "    <tr>\n",
       "      <th>1</th>\n",
       "      <td>0</td>\n",
       "      <td>0</td>\n",
       "      <td>0</td>\n",
       "      <td>0</td>\n",
       "      <td>0</td>\n",
       "      <td>0</td>\n",
       "      <td>0</td>\n",
       "      <td>0</td>\n",
       "      <td>0</td>\n",
       "      <td>0</td>\n",
       "      <td>...</td>\n",
       "      <td>0</td>\n",
       "      <td>0</td>\n",
       "      <td>0</td>\n",
       "      <td>0</td>\n",
       "      <td>0</td>\n",
       "      <td>0</td>\n",
       "      <td>0</td>\n",
       "      <td>0</td>\n",
       "      <td>0</td>\n",
       "      <td>0</td>\n",
       "    </tr>\n",
       "    <tr>\n",
       "      <th>2</th>\n",
       "      <td>1</td>\n",
       "      <td>0</td>\n",
       "      <td>0</td>\n",
       "      <td>0</td>\n",
       "      <td>0</td>\n",
       "      <td>0</td>\n",
       "      <td>0</td>\n",
       "      <td>0</td>\n",
       "      <td>0</td>\n",
       "      <td>0</td>\n",
       "      <td>...</td>\n",
       "      <td>0</td>\n",
       "      <td>0</td>\n",
       "      <td>0</td>\n",
       "      <td>0</td>\n",
       "      <td>0</td>\n",
       "      <td>0</td>\n",
       "      <td>0</td>\n",
       "      <td>0</td>\n",
       "      <td>0</td>\n",
       "      <td>0</td>\n",
       "    </tr>\n",
       "    <tr>\n",
       "      <th>3</th>\n",
       "      <td>4</td>\n",
       "      <td>0</td>\n",
       "      <td>0</td>\n",
       "      <td>0</td>\n",
       "      <td>0</td>\n",
       "      <td>0</td>\n",
       "      <td>0</td>\n",
       "      <td>0</td>\n",
       "      <td>0</td>\n",
       "      <td>0</td>\n",
       "      <td>...</td>\n",
       "      <td>0</td>\n",
       "      <td>0</td>\n",
       "      <td>0</td>\n",
       "      <td>0</td>\n",
       "      <td>0</td>\n",
       "      <td>0</td>\n",
       "      <td>0</td>\n",
       "      <td>0</td>\n",
       "      <td>0</td>\n",
       "      <td>0</td>\n",
       "    </tr>\n",
       "    <tr>\n",
       "      <th>4</th>\n",
       "      <td>0</td>\n",
       "      <td>0</td>\n",
       "      <td>0</td>\n",
       "      <td>0</td>\n",
       "      <td>0</td>\n",
       "      <td>0</td>\n",
       "      <td>0</td>\n",
       "      <td>0</td>\n",
       "      <td>0</td>\n",
       "      <td>0</td>\n",
       "      <td>...</td>\n",
       "      <td>0</td>\n",
       "      <td>0</td>\n",
       "      <td>0</td>\n",
       "      <td>0</td>\n",
       "      <td>0</td>\n",
       "      <td>0</td>\n",
       "      <td>0</td>\n",
       "      <td>0</td>\n",
       "      <td>0</td>\n",
       "      <td>0</td>\n",
       "    </tr>\n",
       "  </tbody>\n",
       "</table>\n",
       "<p>5 rows × 785 columns</p>\n",
       "</div>"
      ],
      "text/plain": [
       "   label  pixel0  pixel1  pixel2  pixel3  pixel4  pixel5  pixel6  pixel7  \\\n",
       "0      1       0       0       0       0       0       0       0       0   \n",
       "1      0       0       0       0       0       0       0       0       0   \n",
       "2      1       0       0       0       0       0       0       0       0   \n",
       "3      4       0       0       0       0       0       0       0       0   \n",
       "4      0       0       0       0       0       0       0       0       0   \n",
       "\n",
       "   pixel8  ...  pixel774  pixel775  pixel776  pixel777  pixel778  pixel779  \\\n",
       "0       0  ...         0         0         0         0         0         0   \n",
       "1       0  ...         0         0         0         0         0         0   \n",
       "2       0  ...         0         0         0         0         0         0   \n",
       "3       0  ...         0         0         0         0         0         0   \n",
       "4       0  ...         0         0         0         0         0         0   \n",
       "\n",
       "   pixel780  pixel781  pixel782  pixel783  \n",
       "0         0         0         0         0  \n",
       "1         0         0         0         0  \n",
       "2         0         0         0         0  \n",
       "3         0         0         0         0  \n",
       "4         0         0         0         0  \n",
       "\n",
       "[5 rows x 785 columns]"
      ]
     },
     "execution_count": 2,
     "metadata": {},
     "output_type": "execute_result"
    }
   ],
   "source": [
    "df = pd.read_csv(r'/kaggle/input/digit-recognizer/train.csv')\n",
    "test = pd.read_csv(r'/kaggle/input/digit-recognizer/test.csv')\n",
    "df.head()"
   ]
  },
  {
   "cell_type": "code",
   "execution_count": 3,
   "id": "acedf1f8",
   "metadata": {
    "execution": {
     "iopub.execute_input": "2021-07-26T22:40:05.507537Z",
     "iopub.status.busy": "2021-07-26T22:40:05.506756Z",
     "iopub.status.idle": "2021-07-26T22:40:10.554279Z",
     "shell.execute_reply": "2021-07-26T22:40:10.553342Z",
     "shell.execute_reply.started": "2021-07-26T22:26:34.057597Z"
    },
    "papermill": {
     "duration": 5.065913,
     "end_time": "2021-07-26T22:40:10.554416",
     "exception": false,
     "start_time": "2021-07-26T22:40:05.488503",
     "status": "completed"
    },
    "tags": []
   },
   "outputs": [],
   "source": [
    "import tensorflow as tf\n",
    "from tensorflow import keras\n",
    "import numpy as np\n",
    "from sklearn.model_selection import train_test_split"
   ]
  },
  {
   "cell_type": "markdown",
   "id": "b2cd49dc",
   "metadata": {
    "papermill": {
     "duration": 0.01453,
     "end_time": "2021-07-26T22:40:10.585073",
     "exception": false,
     "start_time": "2021-07-26T22:40:10.570543",
     "status": "completed"
    },
    "tags": []
   },
   "source": [
    "We are going to split data with test size 20%"
   ]
  },
  {
   "cell_type": "code",
   "execution_count": 4,
   "id": "bddce529",
   "metadata": {
    "execution": {
     "iopub.execute_input": "2021-07-26T22:40:10.696889Z",
     "iopub.status.busy": "2021-07-26T22:40:10.619014Z",
     "iopub.status.idle": "2021-07-26T22:40:10.925126Z",
     "shell.execute_reply": "2021-07-26T22:40:10.924617Z",
     "shell.execute_reply.started": "2021-07-26T22:26:34.063532Z"
    },
    "papermill": {
     "duration": 0.325903,
     "end_time": "2021-07-26T22:40:10.925266",
     "exception": false,
     "start_time": "2021-07-26T22:40:10.599363",
     "status": "completed"
    },
    "tags": []
   },
   "outputs": [],
   "source": [
    "x_train, x_test, y_train, y_test = train_test_split(df.drop('label', axis = 1), df['label'], test_size = 0.2)"
   ]
  },
  {
   "cell_type": "code",
   "execution_count": 5,
   "id": "d2eb2875",
   "metadata": {
    "execution": {
     "iopub.execute_input": "2021-07-26T22:40:10.956897Z",
     "iopub.status.busy": "2021-07-26T22:40:10.956218Z",
     "iopub.status.idle": "2021-07-26T22:40:10.959622Z",
     "shell.execute_reply": "2021-07-26T22:40:10.959216Z",
     "shell.execute_reply.started": "2021-07-26T22:26:35.046443Z"
    },
    "papermill": {
     "duration": 0.020725,
     "end_time": "2021-07-26T22:40:10.959728",
     "exception": false,
     "start_time": "2021-07-26T22:40:10.939003",
     "status": "completed"
    },
    "tags": []
   },
   "outputs": [
    {
     "data": {
      "text/plain": [
       "((33600, 784), (8400, 784))"
      ]
     },
     "execution_count": 5,
     "metadata": {},
     "output_type": "execute_result"
    }
   ],
   "source": [
    "# Let's print the shape of data after train test split\n",
    "x_train.shape, x_test.shape"
   ]
  },
  {
   "cell_type": "markdown",
   "id": "0cb1481b",
   "metadata": {
    "papermill": {
     "duration": 0.012939,
     "end_time": "2021-07-26T22:40:10.985176",
     "exception": false,
     "start_time": "2021-07-26T22:40:10.972237",
     "status": "completed"
    },
    "tags": []
   },
   "source": [
    "* To pass to our model we need to change the shape of our dataset"
   ]
  },
  {
   "cell_type": "code",
   "execution_count": 6,
   "id": "fa241811",
   "metadata": {
    "execution": {
     "iopub.execute_input": "2021-07-26T22:40:11.016215Z",
     "iopub.status.busy": "2021-07-26T22:40:11.015240Z",
     "iopub.status.idle": "2021-07-26T22:40:11.181816Z",
     "shell.execute_reply": "2021-07-26T22:40:11.181284Z",
     "shell.execute_reply.started": "2021-07-26T22:27:18.946739Z"
    },
    "papermill": {
     "duration": 0.183775,
     "end_time": "2021-07-26T22:40:11.181952",
     "exception": false,
     "start_time": "2021-07-26T22:40:10.998177",
     "status": "completed"
    },
    "tags": []
   },
   "outputs": [],
   "source": [
    "x_train = np.array(x_train).reshape(x_train.shape[0], 28, 28, 1)\n",
    "x_test = np.array(x_test).reshape(x_test.shape[0], 28, 28, 1)\n",
    "\n",
    "test_array =  np.array(test).reshape(test.shape[0], 28, 28, 1)"
   ]
  },
  {
   "cell_type": "code",
   "execution_count": 7,
   "id": "1dd0a360",
   "metadata": {
    "execution": {
     "iopub.execute_input": "2021-07-26T22:40:11.215913Z",
     "iopub.status.busy": "2021-07-26T22:40:11.214899Z",
     "iopub.status.idle": "2021-07-26T22:40:11.466147Z",
     "shell.execute_reply": "2021-07-26T22:40:11.465652Z",
     "shell.execute_reply.started": "2021-07-26T22:28:13.730611Z"
    },
    "papermill": {
     "duration": 0.27064,
     "end_time": "2021-07-26T22:40:11.466270",
     "exception": false,
     "start_time": "2021-07-26T22:40:11.195630",
     "status": "completed"
    },
    "tags": []
   },
   "outputs": [],
   "source": [
    "x_train = x_train / 255.0\n",
    "\n",
    "x_test = x_test / 255.0\n",
    "\n",
    "test_array = test_array / 255.0\n",
    "\n",
    "x_train = x_train.astype('float32')\n",
    "x_test = x_test.astype('float32')\n",
    "test_array = test_array.astype('float32')"
   ]
  },
  {
   "cell_type": "code",
   "execution_count": 8,
   "id": "aa8436db",
   "metadata": {
    "execution": {
     "iopub.execute_input": "2021-07-26T22:40:11.498677Z",
     "iopub.status.busy": "2021-07-26T22:40:11.497441Z",
     "iopub.status.idle": "2021-07-26T22:40:11.501637Z",
     "shell.execute_reply": "2021-07-26T22:40:11.501042Z",
     "shell.execute_reply.started": "2021-07-26T22:28:17.055831Z"
    },
    "papermill": {
     "duration": 0.02202,
     "end_time": "2021-07-26T22:40:11.501767",
     "exception": false,
     "start_time": "2021-07-26T22:40:11.479747",
     "status": "completed"
    },
    "tags": []
   },
   "outputs": [],
   "source": [
    "#Convert class vector to binary class matrices, It's simply like a one hot encoding\n",
    "y_train = keras.utils.to_categorical(y_train, 10)\n",
    "\n",
    "y_test = keras.utils.to_categorical(y_test, 10)"
   ]
  },
  {
   "cell_type": "code",
   "execution_count": 9,
   "id": "ef6a71ab",
   "metadata": {
    "execution": {
     "iopub.execute_input": "2021-07-26T22:40:11.538519Z",
     "iopub.status.busy": "2021-07-26T22:40:11.537839Z",
     "iopub.status.idle": "2021-07-26T22:40:13.741879Z",
     "shell.execute_reply": "2021-07-26T22:40:13.743019Z",
     "shell.execute_reply.started": "2021-07-26T22:28:22.128181Z"
    },
    "papermill": {
     "duration": 2.22674,
     "end_time": "2021-07-26T22:40:13.743241",
     "exception": false,
     "start_time": "2021-07-26T22:40:11.516501",
     "status": "completed"
    },
    "tags": []
   },
   "outputs": [],
   "source": [
    "model = keras.models.Sequential()\n",
    "\n",
    "model.add(keras.layers.Convolution2D(20, (5,5), activation = 'relu', input_shape = (28, 28, 1)))\n",
    "model.add(keras.layers.MaxPooling2D(pool_size = (2,2), strides = (2,2)))\n",
    "\n",
    "model.add(keras.layers.Convolution2D(50,(5,5), activation = 'relu'))\n",
    "model.add(keras.layers.MaxPooling2D(pool_size = (2,2), strides = (2,2)))\n",
    "\n",
    "model.add(keras.layers.Flatten())\n",
    "model.add(keras.layers.Dense(200, activation = 'relu'))\n",
    "model.add(keras.layers.Dense(10, activation = 'softmax'))\n"
   ]
  },
  {
   "cell_type": "code",
   "execution_count": 10,
   "id": "86cc1bf3",
   "metadata": {
    "execution": {
     "iopub.execute_input": "2021-07-26T22:40:13.798999Z",
     "iopub.status.busy": "2021-07-26T22:40:13.798236Z",
     "iopub.status.idle": "2021-07-26T22:40:13.803587Z",
     "shell.execute_reply": "2021-07-26T22:40:13.804405Z",
     "shell.execute_reply.started": "2021-07-26T22:28:24.371606Z"
    },
    "papermill": {
     "duration": 0.037672,
     "end_time": "2021-07-26T22:40:13.804614",
     "exception": false,
     "start_time": "2021-07-26T22:40:13.766942",
     "status": "completed"
    },
    "tags": []
   },
   "outputs": [
    {
     "name": "stdout",
     "output_type": "stream",
     "text": [
      "Model: \"sequential\"\n",
      "_________________________________________________________________\n",
      "Layer (type)                 Output Shape              Param #   \n",
      "=================================================================\n",
      "conv2d (Conv2D)              (None, 24, 24, 20)        520       \n",
      "_________________________________________________________________\n",
      "max_pooling2d (MaxPooling2D) (None, 12, 12, 20)        0         \n",
      "_________________________________________________________________\n",
      "conv2d_1 (Conv2D)            (None, 8, 8, 50)          25050     \n",
      "_________________________________________________________________\n",
      "max_pooling2d_1 (MaxPooling2 (None, 4, 4, 50)          0         \n",
      "_________________________________________________________________\n",
      "flatten (Flatten)            (None, 800)               0         \n",
      "_________________________________________________________________\n",
      "dense (Dense)                (None, 200)               160200    \n",
      "_________________________________________________________________\n",
      "dense_1 (Dense)              (None, 10)                2010      \n",
      "=================================================================\n",
      "Total params: 187,780\n",
      "Trainable params: 187,780\n",
      "Non-trainable params: 0\n",
      "_________________________________________________________________\n"
     ]
    }
   ],
   "source": [
    "model.summary()"
   ]
  },
  {
   "cell_type": "code",
   "execution_count": 11,
   "id": "f201893e",
   "metadata": {
    "execution": {
     "iopub.execute_input": "2021-07-26T22:40:13.864814Z",
     "iopub.status.busy": "2021-07-26T22:40:13.864012Z",
     "iopub.status.idle": "2021-07-26T22:40:13.880133Z",
     "shell.execute_reply": "2021-07-26T22:40:13.881113Z",
     "shell.execute_reply.started": "2021-07-26T22:28:31.556806Z"
    },
    "papermill": {
     "duration": 0.051371,
     "end_time": "2021-07-26T22:40:13.881300",
     "exception": false,
     "start_time": "2021-07-26T22:40:13.829929",
     "status": "completed"
    },
    "tags": []
   },
   "outputs": [],
   "source": [
    "model.compile(\n",
    "    loss = keras.losses.categorical_crossentropy,\n",
    "    optimizer = keras.optimizers.Adam(),\n",
    "    metrics = ['accuracy'])"
   ]
  },
  {
   "cell_type": "code",
   "execution_count": 12,
   "id": "f755c188",
   "metadata": {
    "execution": {
     "iopub.execute_input": "2021-07-26T22:40:13.931100Z",
     "iopub.status.busy": "2021-07-26T22:40:13.930590Z",
     "iopub.status.idle": "2021-07-26T22:40:47.767464Z",
     "shell.execute_reply": "2021-07-26T22:40:47.767980Z",
     "shell.execute_reply.started": "2021-07-26T22:28:34.013994Z"
    },
    "papermill": {
     "duration": 33.864995,
     "end_time": "2021-07-26T22:40:47.768150",
     "exception": false,
     "start_time": "2021-07-26T22:40:13.903155",
     "status": "completed"
    },
    "tags": []
   },
   "outputs": [
    {
     "name": "stdout",
     "output_type": "stream",
     "text": [
      "Epoch 1/12\n",
      "53/53 [==============================] - 10s 55ms/step - loss: 1.6332 - accuracy: 0.4585 - val_loss: 0.4199 - val_accuracy: 0.8670\n",
      "Epoch 2/12\n",
      "53/53 [==============================] - 2s 46ms/step - loss: 0.3176 - accuracy: 0.8993 - val_loss: 0.2677 - val_accuracy: 0.9162\n",
      "Epoch 3/12\n",
      "53/53 [==============================] - 2s 39ms/step - loss: 0.1767 - accuracy: 0.9492 - val_loss: 0.2216 - val_accuracy: 0.9302\n",
      "Epoch 4/12\n",
      "53/53 [==============================] - 2s 40ms/step - loss: 0.1235 - accuracy: 0.9676 - val_loss: 0.1779 - val_accuracy: 0.9462\n",
      "Epoch 5/12\n",
      "53/53 [==============================] - 2s 40ms/step - loss: 0.0658 - accuracy: 0.9851 - val_loss: 0.1957 - val_accuracy: 0.9398\n",
      "Epoch 6/12\n",
      "53/53 [==============================] - 2s 39ms/step - loss: 0.0468 - accuracy: 0.9926 - val_loss: 0.1529 - val_accuracy: 0.9552\n",
      "Epoch 7/12\n",
      "53/53 [==============================] - 2s 43ms/step - loss: 0.0550 - accuracy: 0.9912 - val_loss: 0.1526 - val_accuracy: 0.9570\n",
      "Epoch 8/12\n",
      "53/53 [==============================] - 2s 43ms/step - loss: 0.0258 - accuracy: 0.9938 - val_loss: 0.1558 - val_accuracy: 0.9567\n",
      "Epoch 9/12\n",
      "53/53 [==============================] - 2s 44ms/step - loss: 0.0142 - accuracy: 0.9983 - val_loss: 0.1547 - val_accuracy: 0.9593\n",
      "Epoch 10/12\n",
      "53/53 [==============================] - 2s 40ms/step - loss: 0.0208 - accuracy: 0.9956 - val_loss: 0.1559 - val_accuracy: 0.9574\n",
      "Epoch 11/12\n",
      "53/53 [==============================] - 2s 40ms/step - loss: 0.0090 - accuracy: 0.9982 - val_loss: 0.1554 - val_accuracy: 0.9588\n",
      "Epoch 12/12\n",
      "53/53 [==============================] - 2s 44ms/step - loss: 0.0052 - accuracy: 0.9996 - val_loss: 0.1531 - val_accuracy: 0.9618\n"
     ]
    }
   ],
   "source": [
    "history = model.fit(x_train, y_train, \n",
    "                   epochs = 12 , \n",
    "                   verbose = True,\n",
    "                    batch_size= 32,\n",
    "                   validation_split= 0.95)"
   ]
  },
  {
   "cell_type": "code",
   "execution_count": 13,
   "id": "2037b9fc",
   "metadata": {
    "execution": {
     "iopub.execute_input": "2021-07-26T22:40:47.826216Z",
     "iopub.status.busy": "2021-07-26T22:40:47.825180Z",
     "iopub.status.idle": "2021-07-26T22:40:48.432754Z",
     "shell.execute_reply": "2021-07-26T22:40:48.432315Z",
     "shell.execute_reply.started": "2021-07-26T22:29:01.678947Z"
    },
    "papermill": {
     "duration": 0.637886,
     "end_time": "2021-07-26T22:40:48.432880",
     "exception": false,
     "start_time": "2021-07-26T22:40:47.794994",
     "status": "completed"
    },
    "tags": []
   },
   "outputs": [
    {
     "name": "stdout",
     "output_type": "stream",
     "text": [
      "263/263 [==============================] - 1s 2ms/step - loss: 0.1548 - accuracy: 0.9608\n"
     ]
    },
    {
     "data": {
      "text/plain": [
       "[0.1548088788986206, 0.9608333110809326]"
      ]
     },
     "execution_count": 13,
     "metadata": {},
     "output_type": "execute_result"
    }
   ],
   "source": [
    "model.evaluate(x_test, y_test)"
   ]
  },
  {
   "cell_type": "code",
   "execution_count": 14,
   "id": "b92e1721",
   "metadata": {
    "execution": {
     "iopub.execute_input": "2021-07-26T22:40:48.496477Z",
     "iopub.status.busy": "2021-07-26T22:40:48.495595Z",
     "iopub.status.idle": "2021-07-26T22:40:49.491751Z",
     "shell.execute_reply": "2021-07-26T22:40:49.490844Z",
     "shell.execute_reply.started": "2021-07-26T22:29:09.458266Z"
    },
    "papermill": {
     "duration": 1.029218,
     "end_time": "2021-07-26T22:40:49.491899",
     "exception": false,
     "start_time": "2021-07-26T22:40:48.462681",
     "status": "completed"
    },
    "tags": []
   },
   "outputs": [],
   "source": [
    "pred = model.predict(test_array)"
   ]
  },
  {
   "cell_type": "code",
   "execution_count": 15,
   "id": "9ad5983a",
   "metadata": {
    "execution": {
     "iopub.execute_input": "2021-07-26T22:40:49.560239Z",
     "iopub.status.busy": "2021-07-26T22:40:49.556115Z",
     "iopub.status.idle": "2021-07-26T22:40:49.610571Z",
     "shell.execute_reply": "2021-07-26T22:40:49.610083Z",
     "shell.execute_reply.started": "2021-07-26T22:35:57.278208Z"
    },
    "papermill": {
     "duration": 0.089405,
     "end_time": "2021-07-26T22:40:49.610697",
     "exception": false,
     "start_time": "2021-07-26T22:40:49.521292",
     "status": "completed"
    },
    "tags": []
   },
   "outputs": [],
   "source": [
    "sub = pd.DataFrame()\n",
    "sub['ImageId'] = np.arange(1 , len(test)+1, 1)\n",
    "sub['Label'] = np.argmax(pred, axis = 1)\n",
    "sub.to_csv('./Submission.csv', index = False)"
   ]
  }
 ],
 "metadata": {
  "kernelspec": {
   "display_name": "Python 3",
   "language": "python",
   "name": "python3"
  },
  "language_info": {
   "codemirror_mode": {
    "name": "ipython",
    "version": 3
   },
   "file_extension": ".py",
   "mimetype": "text/x-python",
   "name": "python",
   "nbconvert_exporter": "python",
   "pygments_lexer": "ipython3",
   "version": "3.7.10"
  },
  "papermill": {
   "default_parameters": {},
   "duration": 59.667863,
   "end_time": "2021-07-26T22:40:52.580024",
   "environment_variables": {},
   "exception": null,
   "input_path": "__notebook__.ipynb",
   "output_path": "__notebook__.ipynb",
   "parameters": {},
   "start_time": "2021-07-26T22:39:52.912161",
   "version": "2.3.3"
  }
 },
 "nbformat": 4,
 "nbformat_minor": 5
}
